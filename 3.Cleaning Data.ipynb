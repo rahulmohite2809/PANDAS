{
 "cells": [
  {
   "cell_type": "markdown",
   "id": "e633b0db",
   "metadata": {},
   "source": [
    "# Data Cleaning\n",
    "\n",
    "Data cleaning means fixing bad data in your data set.\n",
    "\n",
    "Bad data could be:\n",
    "\n",
    "    Empty cells\n",
    "    Data in wrong format\n",
    "    Wrong data\n",
    "    Duplicates\n"
   ]
  },
  {
   "cell_type": "code",
   "execution_count": 1,
   "id": "260e0795",
   "metadata": {},
   "outputs": [
    {
     "name": "stdout",
     "output_type": "stream",
     "text": [
      "       Date      Open      High       Low     Close  Shares Traded  Turnover (Rs. Cr)\n",
      "0  1-Oct-21  17531.90  17557.15  17452.90  17532.05      305763919           20911.61\n",
      "1  4-Oct-21  17615.55  17750.90  17581.35  17691.25      295761839           21343.51\n",
      "2  5-Oct-21  17661.35  17833.45  17640.90  17822.30      427000191           23066.80\n",
      "3  6-Oct-21  17861.50  17884.60  17613.15  17646.00      395833550           24504.30\n"
     ]
    }
   ],
   "source": [
    "#Return a new Data Frame with no empty cells:\n",
    "\n",
    "import pandas as pd\n",
    "\n",
    "df = pd.read_csv('data.csv')\n",
    "\n",
    "new_df = df.dropna()\n",
    "\n",
    "print(new_df.to_string())"
   ]
  },
  {
   "cell_type": "code",
   "execution_count": 2,
   "id": "c4e8ad18",
   "metadata": {},
   "outputs": [
    {
     "data": {
      "text/plain": [
       "pandas.core.frame.DataFrame"
      ]
     },
     "execution_count": 2,
     "metadata": {},
     "output_type": "execute_result"
    }
   ],
   "source": [
    "type(new_df)"
   ]
  },
  {
   "cell_type": "code",
   "execution_count": 3,
   "id": "4d7ca6f5",
   "metadata": {},
   "outputs": [
    {
     "name": "stdout",
     "output_type": "stream",
     "text": [
      "       Date      Open      High       Low     Close  Shares Traded  Turnover (Rs. Cr)\n",
      "0  1-Oct-21  17531.90  17557.15  17452.90  17532.05      305763919           20911.61\n",
      "1  4-Oct-21  17615.55  17750.90  17581.35  17691.25      295761839           21343.51\n",
      "2  5-Oct-21  17661.35  17833.45  17640.90  17822.30      427000191           23066.80\n",
      "3  6-Oct-21  17861.50  17884.60  17613.15  17646.00      395833550           24504.30\n"
     ]
    }
   ],
   "source": [
    "#Remove all rows with NULL values:\n",
    "import pandas as pd\n",
    "\n",
    "df = pd.read_csv('data.csv')\n",
    "\n",
    "df.dropna(inplace = True)\n",
    "\n",
    "print(df.to_string())"
   ]
  },
  {
   "cell_type": "code",
   "execution_count": 4,
   "id": "20fdb7a5",
   "metadata": {},
   "outputs": [],
   "source": [
    "#Replace NULL values with the number 130:\n",
    "import pandas as pd\n",
    "\n",
    "df = pd.read_csv('data.csv')\n",
    "df.fillna(130, inplace = True)\n"
   ]
  },
  {
   "cell_type": "code",
   "execution_count": null,
   "id": "f6f66d97",
   "metadata": {},
   "outputs": [],
   "source": []
  },
  {
   "cell_type": "code",
   "execution_count": null,
   "id": "e7dc3a1b",
   "metadata": {},
   "outputs": [],
   "source": []
  }
 ],
 "metadata": {
  "kernelspec": {
   "display_name": "Python 3 (ipykernel)",
   "language": "python",
   "name": "python3"
  },
  "language_info": {
   "codemirror_mode": {
    "name": "ipython",
    "version": 3
   },
   "file_extension": ".py",
   "mimetype": "text/x-python",
   "name": "python",
   "nbconvert_exporter": "python",
   "pygments_lexer": "ipython3",
   "version": "3.9.7"
  }
 },
 "nbformat": 4,
 "nbformat_minor": 5
}
