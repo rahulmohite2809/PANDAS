{
 "cells": [
  {
   "cell_type": "markdown",
   "id": "4c6f7358",
   "metadata": {},
   "source": [
    "# Pandas "
   ]
  },
  {
   "cell_type": "markdown",
   "id": "f02b66f2",
   "metadata": {},
   "source": [
    "What is Pandas?\n",
    "\n",
    "Pandas is a Python library used for working with data sets.\n",
    "\n",
    "It has functions for analyzing, cleaning, exploring, and manipulating data."
   ]
  },
  {
   "cell_type": "markdown",
   "id": "fd380ba7",
   "metadata": {},
   "source": [
    "# Installation of Pandas"
   ]
  },
  {
   "cell_type": "code",
   "execution_count": 7,
   "id": "850aea37",
   "metadata": {},
   "outputs": [
    {
     "name": "stdout",
     "output_type": "stream",
     "text": [
      "     name  roll no\n",
      "0   vinod        3\n",
      "1  tanmay        7\n",
      "2   vicky        2\n"
     ]
    }
   ],
   "source": [
    "#Import Pandas\n",
    "import pandas as pd\n",
    "\n",
    "\n",
    "\n",
    "mydataset = {\n",
    "  'name': [\"vinod\", \"tanmay\", \"vicky\"],\n",
    "  'roll no': [3, 7, 2]\n",
    "}\n",
    "\n",
    "myvar = pd.DataFrame(mydataset)\n",
    "\n",
    "print(myvar) "
   ]
  },
  {
   "cell_type": "markdown",
   "id": "932a0a58",
   "metadata": {},
   "source": [
    "# Pandas Series"
   ]
  },
  {
   "cell_type": "code",
   "execution_count": 13,
   "id": "177af4aa",
   "metadata": {},
   "outputs": [
    {
     "name": "stdout",
     "output_type": "stream",
     "text": [
      "0    1\n",
      "1    3\n",
      "2    5\n",
      "dtype: int64\n",
      "1\n"
     ]
    }
   ],
   "source": [
    "import pandas as pd\n",
    "\n",
    "a=[1,3,5]\n",
    "\n",
    "var = pd.Series(a)\n",
    "print(var)\n",
    "\n",
    "Myvar=(a[0])\n",
    "print(Myvar)"
   ]
  },
  {
   "cell_type": "code",
   "execution_count": 15,
   "id": "ee7dabed",
   "metadata": {},
   "outputs": [
    {
     "name": "stdout",
     "output_type": "stream",
     "text": [
      "a    1\n",
      "b    3\n",
      "c    9\n",
      "d    6\n",
      "dtype: int64\n"
     ]
    }
   ],
   "source": [
    "import pandas as np\n",
    "\n",
    "a=[1,3,9,6]\n",
    "var = pd.Series(a,index= (\"a\",\"b\",\"c\",\"d\"))\n",
    "\n",
    "print(var)"
   ]
  },
  {
   "cell_type": "code",
   "execution_count": null,
   "id": "77d1f3fa",
   "metadata": {},
   "outputs": [],
   "source": []
  }
 ],
 "metadata": {
  "kernelspec": {
   "display_name": "Python 3 (ipykernel)",
   "language": "python",
   "name": "python3"
  },
  "language_info": {
   "codemirror_mode": {
    "name": "ipython",
    "version": 3
   },
   "file_extension": ".py",
   "mimetype": "text/x-python",
   "name": "python",
   "nbconvert_exporter": "python",
   "pygments_lexer": "ipython3",
   "version": "3.9.7"
  }
 },
 "nbformat": 4,
 "nbformat_minor": 5
}
